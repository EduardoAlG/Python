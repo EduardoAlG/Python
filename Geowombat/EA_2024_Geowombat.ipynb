{
 "cells": [
  {
   "cell_type": "markdown",
   "id": "263386b7",
   "metadata": {},
   "source": [
    "# Assiment 10"
   ]
  },
  {
   "cell_type": "markdown",
   "id": "5c63a57d",
   "metadata": {},
   "source": [
    "#### Get the 15 variables from this raster for all Peru departments polygons. This is the link where shapefiles are located. This is the link of the source raster. The values should be the percentage of district area cover by this specific Morphological Settlement Zone."
   ]
  },
  {
   "cell_type": "code",
   "execution_count": null,
   "id": "60823527",
   "metadata": {},
   "outputs": [],
   "source": [
    "from google.colab import drive\n",
    "drive.mount('/content/drive')"
   ]
  },
  {
   "cell_type": "code",
   "execution_count": null,
   "id": "13c3d83f",
   "metadata": {},
   "outputs": [],
   "source": [
    "!pip install rasterio"
   ]
  },
  {
   "cell_type": "code",
   "execution_count": null,
   "id": "31467651",
   "metadata": {},
   "outputs": [],
   "source": [
    "# requirementss\n",
    "%pip install geopandas matplotlib shapely rasterio numpy pandas sklearn-xarray -q\n",
    "%pip install git+https://github.com/jgrss/geowombat  -q"
   ]
  },
  {
   "cell_type": "code",
   "execution_count": null,
   "id": "69418888",
   "metadata": {},
   "outputs": [],
   "source": [
    "%pip install rasterstats"
   ]
  },
  {
   "cell_type": "code",
   "execution_count": null,
   "id": "2e53716f",
   "metadata": {},
   "outputs": [],
   "source": [
    "!pip install geopandas"
   ]
  },
  {
   "cell_type": "code",
   "execution_count": null,
   "id": "46e82347",
   "metadata": {},
   "outputs": [],
   "source": [
    "import geopandas as gpd\n",
    "from rasterstats import zonal_stats\n",
    "import pandas as pd\n",
    "import geowombat as gw\n",
    "\n",
    "import rasterio\n",
    "import matplotlib.pyplot as plt\n",
    "from rasterio.merge import merge\n",
    "from rasterio.plot import show\n",
    "from rasterio.mask import mask\n",
    "\n",
    "import geopandas as gpd\n",
    "from geopandas import GeoSeries\n",
    "from shapely.geometry import Point, LineString\n",
    "import numpy as np\n",
    "import chardet\n",
    "\n",
    "import pyproj\n",
    "from shapely.ops import transform\n",
    "\n",
    "from pathlib import Path\n",
    "import matplotlib.pyplot as plt\n",
    "import matplotlib.patheffects as pe"
   ]
  },
  {
   "cell_type": "code",
   "execution_count": null,
   "id": "2fc485fe",
   "metadata": {},
   "outputs": [],
   "source": [
    "shapefile_path = '/content/drive/MyDrive/TIF/INEI_LIMITE_DEPARTAMENTAL.shp'\n",
    "department = gpd.read_file(shapefile_path)\n",
    "print(department.head())"
   ]
  },
  {
   "cell_type": "code",
   "execution_count": null,
   "id": "27fb4187",
   "metadata": {},
   "outputs": [],
   "source": [
    "transformer = pyproj.Transformer.from_crs('epsg:4326', 'esri:54009', always_xy=True)\n",
    "\n",
    "# Define a function to apply the transformation\n",
    "def apply_transform(geom):\n",
    "    return transform(transformer.transform, geom)\n",
    "\n",
    "# Apply the transformation to the geometries\n",
    "department['geometry'] = department['geometry'].apply(apply_transform)"
   ]
  },
  {
   "cell_type": "code",
   "execution_count": null,
   "id": "0bebb025",
   "metadata": {},
   "outputs": [],
   "source": [
    "# List of raster file paths\n",
    "tif_file_path = [\n",
    "    '/content/drive/MyDrive/TIF/GHS_BUILT_C_MSZ_E2018_GLOBE_R2023A_54009_10_V1_0_R10_C10.tif',\n",
    "    '/content/drive/MyDrive/TIF/GHS_BUILT_C_MSZ_E2018_GLOBE_R2023A_54009_10_V1_0_R10_C11.tif',\n",
    "    '/content/drive/MyDrive/TIF/GHS_BUILT_C_MSZ_E2018_GLOBE_R2023A_54009_10_V1_0_R10_C12.tif',\n",
    "    '/content/drive/MyDrive/TIF/GHS_BUILT_C_MSZ_E2018_GLOBE_R2023A_54009_10_V1_0_R11_C11.tif',\n",
    "    '/content/drive/MyDrive/TIF/GHS_BUILT_C_MSZ_E2018_GLOBE_R2023A_54009_10_V1_0_R11_C12.tif',\n",
    "    '/content/drive/MyDrive/TIF/GHS_BUILT_C_MSZ_E2018_GLOBE_R2023A_54009_10_V1_0_R12_C11.tif',\n",
    "    '/content/drive/MyDrive/TIF/GHS_BUILT_C_MSZ_E2018_GLOBE_R2023A_54009_10_V1_0_R12_C12.tif',\n",
    "    '/content/drive/MyDrive/TIF/GHS_BUILT_C_MSZ_E2018_GLOBE_R2023A_54009_10_V1_0_R9_C10.tif',\n",
    "    '/content/drive/MyDrive/TIF/GHS_BUILT_C_MSZ_E2018_GLOBE_R2023A_54009_10_V1_0_R9_C11.tif',\n",
    "    '/content/drive/MyDrive/TIF/GHS_BUILT_C_MSZ_E2018_GLOBE_R2023A_54009_10_V1_0_R9_C12.tif'\n",
    "]"
   ]
  },
  {
   "cell_type": "code",
   "execution_count": null,
   "id": "be679265",
   "metadata": {},
   "outputs": [],
   "source": [
    "# We generate a list to obtain the raster data\n",
    "raster_data = []\n",
    "\n",
    "# Iterate over each raster file\n",
    "for raster_path in tif_file_path:\n",
    "    # We intercept the raster information with the shp file\n",
    "    stats = zonal_stats(department, raster_path, stats=\"count sum\", categorical=True, all_touched=True)\n",
    "    # Convert Statistics to DataFrame\n",
    "    stats_df = pd.DataFrame(stats)\n",
    "    # In the created list we concatenate the geometry and raster information of the departments\n",
    "    df = pd.concat([department.reset_index(drop=True), stats_df], axis=1)\n",
    "    raster_data.append(df)"
   ]
  },
  {
   "cell_type": "code",
   "execution_count": null,
   "id": "7ba10cbf",
   "metadata": {},
   "outputs": [],
   "source": [
    "# Concatenar todos los DataFrames en all_stats en un único DataFrame\n",
    "final_df_raster = pd.concat(raster_data, ignore_index=True)\n",
    "\n",
    "# Verificar el resultado\n",
    "print(final_df_raster.head())"
   ]
  }
 ],
 "metadata": {
  "kernelspec": {
   "display_name": "Python 3 (ipykernel)",
   "language": "python",
   "name": "python3"
  },
  "language_info": {
   "codemirror_mode": {
    "name": "ipython",
    "version": 3
   },
   "file_extension": ".py",
   "mimetype": "text/x-python",
   "name": "python",
   "nbconvert_exporter": "python",
   "pygments_lexer": "ipython3",
   "version": "3.11.5"
  }
 },
 "nbformat": 4,
 "nbformat_minor": 5
}
